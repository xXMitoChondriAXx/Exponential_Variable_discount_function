{
 "cells": [
  {
   "cell_type": "code",
   "execution_count": 1,
   "id": "c26c7e4e",
   "metadata": {},
   "outputs": [],
   "source": [
    "import math\n",
    "import random"
   ]
  },
  {
   "cell_type": "code",
   "execution_count": 2,
   "id": "3f7f199d",
   "metadata": {},
   "outputs": [],
   "source": [
    "def exponential_discount(delay, rate):\n",
    "    return math.exp(-rate*delay)"
   ]
  },
  {
   "cell_type": "code",
   "execution_count": 3,
   "id": "53b8dd84",
   "metadata": {},
   "outputs": [],
   "source": [
    "start_price = 100\n",
    "rate = 0.05\n",
    "max_time = 10"
   ]
  },
  {
   "cell_type": "code",
   "execution_count": 4,
   "id": "b931715e",
   "metadata": {},
   "outputs": [],
   "source": [
    "def exp_decision(price, time):\n",
    "    if time == 0:\n",
    "        return buy_exp\n",
    "    else:\n",
    "        discounted_price = price * exponential_discount(time, rate)\n",
    "        if discounted_price < start_price:\n",
    "            return buy_exp\n",
    "        else:\n",
    "            return sell_exp"
   ]
  },
  {
   "cell_type": "code",
   "execution_count": 5,
   "id": "9ebc2d65",
   "metadata": {},
   "outputs": [],
   "source": [
    "def buy_exp(price, time):\n",
    "    global start_price\n",
    "    start_price = price\n",
    "    print(f'time {time}: bought for {price}')"
   ]
  },
  {
   "cell_type": "code",
   "execution_count": 6,
   "id": "741a6ec4",
   "metadata": {},
   "outputs": [],
   "source": [
    "def sell_exp(price, time):\n",
    "    global start_price\n",
    "    profit = price - start_price\n",
    "    print(f'time {time}:sold for {profit}')"
   ]
  },
  {
   "cell_type": "code",
   "execution_count": 7,
   "id": "2e5772ca",
   "metadata": {},
   "outputs": [
    {
     "name": "stdout",
     "output_type": "stream",
     "text": [
      "time 0: bought for 106\n",
      "time 1: bought for 108\n",
      "time 2: bought for 99\n",
      "time 3: bought for 89\n",
      "time 4: bought for 92\n",
      "time 5: bought for 88\n",
      "time 6: bought for 80\n",
      "time 7: bought for 85\n",
      "time 8: bought for 94\n",
      "time 9: bought for 97\n"
     ]
    }
   ],
   "source": [
    "for time in range (max_time):\n",
    "    price = start_price + random.randint(-10, 10)\n",
    "    decision_function = exp_decision(price, time)\n",
    "    decision_function(price, time)\n"
   ]
  },
  {
   "cell_type": "code",
   "execution_count": 8,
   "id": "bd074fd2",
   "metadata": {},
   "outputs": [],
   "source": [
    "def variable_decision(price, time, decision_model):\n",
    "    if time == 0:\n",
    "        return decision_model[0]\n",
    "    else:\n",
    "        discounted_price = price * exponential_discount(time, rate)\n",
    "        if discounted_price < start_price:\n",
    "            return decision_model[0]\n",
    "        else:\n",
    "            return decision_model[1]\n"
   ]
  },
  {
   "cell_type": "code",
   "execution_count": 9,
   "id": "e4bc1a2c",
   "metadata": {},
   "outputs": [],
   "source": [
    "conservative_exp = (buy_exp, sell_exp)\n",
    "aggressive_exp = (sell_exp, buy_exp)"
   ]
  },
  {
   "cell_type": "code",
   "execution_count": 10,
   "id": "5ab70c4e",
   "metadata": {},
   "outputs": [
    {
     "name": "stdout",
     "output_type": "stream",
     "text": [
      "time 0: bought for 104\n",
      "time 1: bought for 95\n",
      "time 2: bought for 89\n",
      "time 3: bought for 96\n",
      "time 4: bought for 104\n",
      "time 5: bought for 94\n",
      "time 6: bought for 100\n",
      "time 7: bought for 106\n",
      "time 8: bought for 104\n",
      "time 9: bought for 98\n"
     ]
    }
   ],
   "source": [
    "for time in range (max_time):\n",
    "    price = start_price + random.randint(-10, 10)\n",
    "    decision_function = variable_decision(price, time, conservative_exp)\n",
    "    decision_function(price, time)"
   ]
  },
  {
   "cell_type": "code",
   "execution_count": 11,
   "id": "13ac4a01",
   "metadata": {},
   "outputs": [
    {
     "name": "stdout",
     "output_type": "stream",
     "text": [
      "time 0:sold for 8\n",
      "time 1:sold for -9\n",
      "time 2:sold for 9\n",
      "time 3:sold for 3\n",
      "time 4:sold for 1\n",
      "time 5:sold for 5\n",
      "time 6:sold for 5\n",
      "time 7:sold for 7\n",
      "time 8:sold for 0\n",
      "time 9:sold for 10\n"
     ]
    }
   ],
   "source": [
    "for time in range (max_time):\n",
    "    price = start_price + random.randint(-10, 10)\n",
    "    decision_function = variable_decision(price, time, aggressive_exp)\n",
    "    decision_function(price, time)"
   ]
  },
  {
   "cell_type": "code",
   "execution_count": 12,
   "id": "2e5f86d2",
   "metadata": {},
   "outputs": [],
   "source": [
    "def buy(position, price, start_price, max_time, rate, time):\n",
    "    start_price = price\n",
    "    position +=1\n",
    "    print(f'time {time}: bought for {price}')\n",
    "    return position"
   ]
  },
  {
   "cell_type": "code",
   "execution_count": 13,
   "id": "0175f325",
   "metadata": {},
   "outputs": [],
   "source": [
    "def sell(position, price, start_price, max_time, rate, time):\n",
    "    start_price = price\n",
    "    position -=1\n",
    "    print(f'time {time}: sold for {price}')\n",
    "    return position"
   ]
  },
  {
   "cell_type": "code",
   "execution_count": 14,
   "id": "2368ac5a",
   "metadata": {},
   "outputs": [],
   "source": [
    "def hold(position, price, start_price, max_time, rate, time):\n",
    "    print(f'time {time}: held at {price}')\n",
    "    return position"
   ]
  },
  {
   "cell_type": "code",
   "execution_count": 15,
   "id": "fe6d3343",
   "metadata": {},
   "outputs": [],
   "source": [
    "conservative = (sell, hold, buy)\n",
    "aggressive = (buy, hold, sell)"
   ]
  },
  {
   "cell_type": "code",
   "execution_count": 16,
   "id": "3e28dd5f",
   "metadata": {},
   "outputs": [],
   "source": [
    "start_price = 100\n",
    "rate = 0.05\n",
    "max_time = 10"
   ]
  },
  {
   "cell_type": "code",
   "execution_count": 17,
   "id": "764a1540",
   "metadata": {},
   "outputs": [],
   "source": [
    "def get_discount(time):\n",
    "    return 1/(1 + time)"
   ]
  },
  {
   "cell_type": "code",
   "execution_count": 18,
   "id": "b58c3a0e",
   "metadata": {},
   "outputs": [],
   "source": [
    "def make_decision(price, time, strategy, strategy_name, position, start_price, discount_factor):\n",
    "    action = strategy[time % 3]\n",
    "    discount_factor = get_discount(time)\n",
    "    current_price = price * (discount_factor ** (time - 1))\n",
    "    if action == \"buy\":\n",
    "        if position == 0:\n",
    "            return 1\n",
    "        else:\n",
    "            return 0\n",
    "    elif action == \"sell\":\n",
    "        if position == 1:\n",
    "            return -1\n",
    "        else:\n",
    "            return 0\n",
    "    else:\n",
    "        return 0"
   ]
  },
  {
   "cell_type": "code",
   "execution_count": 19,
   "id": "6688e5ea",
   "metadata": {},
   "outputs": [],
   "source": [
    "def simulate_strategy(start_price, max_time, strategy, strategy_name, discount_factor):\n",
    "    position = 0\n",
    "    prices = [start_price] * max_time\n",
    "    total_profit = 0\n",
    "\n",
    "    for time in range(1, max_time):\n",
    "        price = start_price + random.randint(-10, 10)\n",
    "        discount_factor = get_discount(time)\n",
    "        decision_function = make_decision(price, time, strategy, strategy_name, position, start_price, discount_factor)\n",
    "        \n",
    "        if decision_function == 1:\n",
    "            if position == 0:\n",
    "                position = 1\n",
    "                print(f'time {time}: bought for {price}')\n",
    "            elif position == -1:\n",
    "                position = 1\n",
    "                total_profit += price - prices[time - 1]\n",
    "                print(f'time {time}: bought for {price}, total profit: {total_profit}')\n",
    "            else:\n",
    "                print(f'time {time}: held at {price}')\n",
    "                \n",
    "        elif decision_function == -1:\n",
    "            if position == 0:\n",
    "                position = -1\n",
    "                print(f'time {time}: sold for {price}')\n",
    "            elif position == 1:\n",
    "                position = -1\n",
    "                total_profit += prices[time - 1] - price\n",
    "                print(f'time {time}: sold for {price}, total profit: {total_profit}')\n",
    "            else:\n",
    "                print(f'time {time}: held at {price}')\n",
    "                \n",
    "        else:\n",
    "            print(f'time {time}: held at {price}')\n",
    "            \n",
    "        prices[time] = price\n",
    "        \n",
    "    return total_profit     "
   ]
  },
  {
   "cell_type": "code",
   "execution_count": 20,
   "id": "03840a87",
   "metadata": {},
   "outputs": [
    {
     "ename": "NameError",
     "evalue": "name 'discount_factor' is not defined",
     "output_type": "error",
     "traceback": [
      "\u001b[1;31m---------------------------------------------------------------------------\u001b[0m",
      "\u001b[1;31mNameError\u001b[0m                                 Traceback (most recent call last)",
      "Input \u001b[1;32mIn [20]\u001b[0m, in \u001b[0;36m<cell line: 1>\u001b[1;34m()\u001b[0m\n\u001b[1;32m----> 1\u001b[0m conservative_profit \u001b[38;5;241m=\u001b[39m simulate_strategy(start_price, max_time, conservative, \u001b[38;5;124m'\u001b[39m\u001b[38;5;124mconservative\u001b[39m\u001b[38;5;124m'\u001b[39m, \u001b[43mdiscount_factor\u001b[49m)\n",
      "\u001b[1;31mNameError\u001b[0m: name 'discount_factor' is not defined"
     ]
    }
   ],
   "source": [
    "conservative_profit = simulate_strategy(start_price, max_time, conservative, 'conservative', discount_factor)"
   ]
  },
  {
   "cell_type": "code",
   "execution_count": null,
   "id": "0b7da73d",
   "metadata": {},
   "outputs": [],
   "source": []
  }
 ],
 "metadata": {
  "kernelspec": {
   "display_name": "Python 3 (ipykernel)",
   "language": "python",
   "name": "python3"
  },
  "language_info": {
   "codemirror_mode": {
    "name": "ipython",
    "version": 3
   },
   "file_extension": ".py",
   "mimetype": "text/x-python",
   "name": "python",
   "nbconvert_exporter": "python",
   "pygments_lexer": "ipython3",
   "version": "3.9.12"
  }
 },
 "nbformat": 4,
 "nbformat_minor": 5
}
