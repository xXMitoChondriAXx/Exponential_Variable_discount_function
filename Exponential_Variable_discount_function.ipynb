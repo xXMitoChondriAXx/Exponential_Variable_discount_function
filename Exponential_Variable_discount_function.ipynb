{
 "cells": [
  {
   "cell_type": "code",
   "execution_count": 1,
   "id": "c26c7e4e",
   "metadata": {},
   "outputs": [],
   "source": [
    "import math\n",
    "import random"
   ]
  },
  {
   "cell_type": "code",
   "execution_count": 2,
   "id": "3f7f199d",
   "metadata": {},
   "outputs": [],
   "source": [
    "def exponential_discount(delay, rate):\n",
    "    return math.exp(-rate*delay)"
   ]
  },
  {
   "cell_type": "code",
   "execution_count": 3,
   "id": "53b8dd84",
   "metadata": {},
   "outputs": [],
   "source": [
    "start_price = 100\n",
    "rate = 0.05\n",
    "max_time = 10"
   ]
  },
  {
   "cell_type": "code",
   "execution_count": 4,
   "id": "b931715e",
   "metadata": {},
   "outputs": [],
   "source": [
    "def exp_decision(price, time):\n",
    "    if time == 0:\n",
    "        return buy_exp\n",
    "    else:\n",
    "        discounted_price = price * exponential_discount(time, rate)\n",
    "        if discounted_price < start_price:\n",
    "            return buy_exp\n",
    "        else:\n",
    "            return sell_exp"
   ]
  },
  {
   "cell_type": "code",
   "execution_count": 5,
   "id": "9ebc2d65",
   "metadata": {},
   "outputs": [],
   "source": [
    "def buy_exp(price, time):\n",
    "    global start_price\n",
    "    start_price = price\n",
    "    print(f'time {time}: bought for {price}')"
   ]
  },
  {
   "cell_type": "code",
   "execution_count": 6,
   "id": "741a6ec4",
   "metadata": {},
   "outputs": [],
   "source": [
    "def sell_exp(price, time):\n",
    "    global start_price\n",
    "    profit = price - start_price\n",
    "    print(f'time {time}:sold for {profit}')"
   ]
  },
  {
   "cell_type": "code",
   "execution_count": 7,
   "id": "2e5772ca",
   "metadata": {},
   "outputs": [
    {
     "name": "stdout",
     "output_type": "stream",
     "text": [
      "time 0: bought for 98\n",
      "time 1: bought for 98\n",
      "time 2: bought for 106\n",
      "time 3: bought for 115\n",
      "time 4: bought for 107\n",
      "time 5: bought for 114\n",
      "time 6: bought for 111\n",
      "time 7: bought for 108\n",
      "time 8: bought for 107\n",
      "time 9: bought for 111\n"
     ]
    }
   ],
   "source": [
    "for time in range (max_time):\n",
    "    price = start_price + random.randint(-10, 10)\n",
    "    decision_function = exp_decision(price, time)\n",
    "    decision_function(price, time)\n"
   ]
  },
  {
   "cell_type": "code",
   "execution_count": 8,
   "id": "bd074fd2",
   "metadata": {},
   "outputs": [],
   "source": [
    "def variable_decision(price, time, decision_model):\n",
    "    if time == 0:\n",
    "        return decision_model[0]\n",
    "    else:\n",
    "        discounted_price = price * exponential_discount(time, rate)\n",
    "        if discounted_price < start_price:\n",
    "            return decision_model[0]\n",
    "        else:\n",
    "            return decision_model[1]\n"
   ]
  },
  {
   "cell_type": "code",
   "execution_count": 9,
   "id": "e4bc1a2c",
   "metadata": {},
   "outputs": [],
   "source": [
    "conservative_exp = (buy_exp, sell_exp)\n",
    "aggressive_exp = (sell_exp, buy_exp)"
   ]
  },
  {
   "cell_type": "code",
   "execution_count": 10,
   "id": "5ab70c4e",
   "metadata": {},
   "outputs": [
    {
     "name": "stdout",
     "output_type": "stream",
     "text": [
      "time 0: bought for 102\n",
      "time 1: bought for 99\n",
      "time 2: bought for 94\n",
      "time 3: bought for 89\n",
      "time 4: bought for 93\n",
      "time 5: bought for 99\n",
      "time 6: bought for 90\n",
      "time 7: bought for 89\n",
      "time 8: bought for 84\n",
      "time 9: bought for 91\n"
     ]
    }
   ],
   "source": [
    "for time in range (max_time):\n",
    "    price = start_price + random.randint(-10, 10)\n",
    "    decision_function = variable_decision(price, time, conservative_exp)\n",
    "    decision_function(price, time)"
   ]
  },
  {
   "cell_type": "code",
   "execution_count": 11,
   "id": "13ac4a01",
   "metadata": {},
   "outputs": [
    {
     "name": "stdout",
     "output_type": "stream",
     "text": [
      "time 0:sold for -10\n",
      "time 1:sold for 3\n",
      "time 2:sold for -8\n",
      "time 3:sold for 1\n",
      "time 4:sold for 8\n",
      "time 5:sold for 2\n",
      "time 6:sold for -9\n",
      "time 7:sold for -4\n",
      "time 8:sold for 8\n",
      "time 9:sold for 6\n"
     ]
    }
   ],
   "source": [
    "for time in range (max_time):\n",
    "    price = start_price + random.randint(-10, 10)\n",
    "    decision_function = variable_decision(price, time, aggressive_exp)\n",
    "    decision_function(price, time)"
   ]
  },
  {
   "cell_type": "code",
   "execution_count": 12,
   "id": "1af374a1",
   "metadata": {},
   "outputs": [],
   "source": [
    "def buy(position, price, start_price, max_time, rate, time):\n",
    "    start_price = price\n",
    "    position +=1\n",
    "    print(f'time {time}: bought for {price}')\n",
    "    return position"
   ]
  },
  {
   "cell_type": "code",
   "execution_count": 13,
   "id": "4a39fa84",
   "metadata": {},
   "outputs": [],
   "source": [
    "def sell(position, price, start_price, max_time, rate, time):\n",
    "    start_price = price\n",
    "    position -=1\n",
    "    print(f'time {time}: sold for {price}')\n",
    "    return position"
   ]
  },
  {
   "cell_type": "code",
   "execution_count": 14,
   "id": "279e512f",
   "metadata": {},
   "outputs": [],
   "source": [
    "def hold(position, price, start_price, max_time, rate, time):\n",
    "    print(f'time {time}: held at {price}')\n",
    "    return position"
   ]
  },
  {
   "cell_type": "code",
   "execution_count": 15,
   "id": "85e7204c",
   "metadata": {},
   "outputs": [],
   "source": [
    "conservative = (sell, hold, buy)\n",
    "aggressive = (buy, hold, sell)"
   ]
  },
  {
   "cell_type": "code",
   "execution_count": 16,
   "id": "110bda18",
   "metadata": {},
   "outputs": [],
   "source": [
    "start_price = 100\n",
    "rate = 0.05\n",
    "max_time = 10"
   ]
  },
  {
   "cell_type": "code",
   "execution_count": 17,
   "id": "b58c3a0e",
   "metadata": {},
   "outputs": [],
   "source": [
    "def make_decision(price, time, decision_model, strategy, position, start_price):\n",
    "    if time == 0:\n",
    "        if callable(decision_model[0]):\n",
    "            return decision_model[0](position, price, start_price, max_time, rate, time)\n",
    "        else:\n",
    "            return decision_model[0]\n",
    "    else:\n",
    "        discounted_price = price * exponential_discount(time, rate)\n",
    "        if time >= 2:\n",
    "            moving_average = (price + prices[time-1] + prices[time-2])/3\n",
    "        else:\n",
    "            moving_average = price\n",
    "        if time >= 4:\n",
    "            volatility = sum(abs(price - p) for p in prices[time-4:time])/5\n",
    "        else:\n",
    "            volatility = 0\n",
    "        if strategy == \"conservative\":\n",
    "            if discounted_price < start_price - 2*volatility:\n",
    "                return -1\n",
    "            elif discounted_price > start_price + moving_average:\n",
    "                return 1\n",
    "            else:\n",
    "                return 0\n",
    "        elif strategy == \"aggressive\":\n",
    "            if discounted_price < start_price - volatility:\n",
    "                return -1\n",
    "            elif discounted_price > start_price + 2*moving_average:\n",
    "                return 1\n",
    "            else:\n",
    "                return 0"
   ]
  },
  {
   "cell_type": "code",
   "execution_count": 18,
   "id": "6688e5ea",
   "metadata": {},
   "outputs": [
    {
     "name": "stdout",
     "output_type": "stream",
     "text": [
      "Simulating using conservative decision model:\n",
      "time 1: sold for 95\n",
      "time 2: sold for 93\n",
      "time 3: sold for 104\n",
      "time 4: held at 109\n",
      "time 5: sold for 103\n",
      "time 6: sold for 107\n",
      "time 7: sold for 100\n",
      "time 8: sold for 92\n",
      "time 9: sold for 97\n"
     ]
    }
   ],
   "source": [
    "print(\"Simulating using conservative decision model:\")\n",
    "\n",
    "position = 0\n",
    "prices = [start_price] * max_time\n",
    "\n",
    "for time in range(1, max_time):\n",
    "    price = start_price + random.randint(-10, 10)\n",
    "    decision_function = make_decision(price, time, conservative, \"conservative\", position, start_price)\n",
    "    if decision_function == 1:\n",
    "        position = 1\n",
    "        print(f'time {time}: bought for {price}')\n",
    "    elif decision_function == -1:\n",
    "        position = 1\n",
    "        print(f'time {time}: sold for {price}')\n",
    "    else:\n",
    "        print(f'time {time}: held at {price}')"
   ]
  },
  {
   "cell_type": "code",
   "execution_count": 21,
   "id": "03840a87",
   "metadata": {},
   "outputs": [
    {
     "name": "stdout",
     "output_type": "stream",
     "text": [
      "Simulating using agressive decision model:\n",
      "time 1: sold for 102\n",
      "time 2: sold for 94\n",
      "time 3: sold for 99\n",
      "time 4: sold for 91\n",
      "time 5: sold for 92\n",
      "time 6: sold for 90\n",
      "time 7: sold for 97\n",
      "time 8: sold for 91\n",
      "time 9: sold for 97\n"
     ]
    }
   ],
   "source": [
    "print(\"Simulating using agressive decision model:\")\n",
    "\n",
    "position = 0\n",
    "prices = [start_price] * max_time\n",
    "\n",
    "for time in range(1, max_time):\n",
    "    price = start_price + random.randint(-10, 10)\n",
    "    decision_function = make_decision(price, time, aggressive, \"aggressive\", position, start_price)\n",
    "    if decision_function == 1:\n",
    "        position = 1\n",
    "        print(f'time {time}: bought for {price}')\n",
    "    elif decision_function == -1:\n",
    "        position = 1\n",
    "        print(f'time {time}: sold for {price}')\n",
    "    else:\n",
    "        print(f'time {time}: held at {price}')"
   ]
  },
  {
   "cell_type": "code",
   "execution_count": null,
   "id": "75a49275",
   "metadata": {},
   "outputs": [],
   "source": []
  },
  {
   "cell_type": "code",
   "execution_count": null,
   "id": "7d3b5006",
   "metadata": {},
   "outputs": [],
   "source": [
    "\n"
   ]
  },
  {
   "cell_type": "code",
   "execution_count": null,
   "id": "1000b0f3",
   "metadata": {},
   "outputs": [],
   "source": []
  }
 ],
 "metadata": {
  "kernelspec": {
   "display_name": "Python 3 (ipykernel)",
   "language": "python",
   "name": "python3"
  },
  "language_info": {
   "codemirror_mode": {
    "name": "ipython",
    "version": 3
   },
   "file_extension": ".py",
   "mimetype": "text/x-python",
   "name": "python",
   "nbconvert_exporter": "python",
   "pygments_lexer": "ipython3",
   "version": "3.9.12"
  }
 },
 "nbformat": 4,
 "nbformat_minor": 5
}
