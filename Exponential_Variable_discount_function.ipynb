{
 "cells": [
  {
   "cell_type": "code",
   "execution_count": 1,
   "id": "c26c7e4e",
   "metadata": {},
   "outputs": [],
   "source": [
    "import math\n",
    "import random"
   ]
  },
  {
   "cell_type": "code",
   "execution_count": 2,
   "id": "3f7f199d",
   "metadata": {},
   "outputs": [],
   "source": [
    "def exponential_discount(delay, rate):\n",
    "    return math.exp(-rate*delay)"
   ]
  },
  {
   "cell_type": "code",
   "execution_count": 47,
   "id": "53b8dd84",
   "metadata": {},
   "outputs": [],
   "source": [
    "start_price = 100\n",
    "rate = 0.05\n",
    "max_time = 10"
   ]
  },
  {
   "cell_type": "code",
   "execution_count": 48,
   "id": "b931715e",
   "metadata": {},
   "outputs": [],
   "source": [
    "def exp_decision(price, time):\n",
    "    if time == 0:\n",
    "        return buy_exp\n",
    "    else:\n",
    "        discounted_price = price * exponential_discount(time, rate)\n",
    "        if discounted_price < start_price:\n",
    "            return buy_exp\n",
    "        else:\n",
    "            return sell_exp"
   ]
  },
  {
   "cell_type": "code",
   "execution_count": 49,
   "id": "9ebc2d65",
   "metadata": {},
   "outputs": [],
   "source": [
    "def buy_exp(price, time):\n",
    "    global start_price\n",
    "    start_price = price\n",
    "    print(f'time {time}: bought for {price}')"
   ]
  },
  {
   "cell_type": "code",
   "execution_count": 50,
   "id": "741a6ec4",
   "metadata": {},
   "outputs": [],
   "source": [
    "def sell_exp(price, time):\n",
    "    global start_price\n",
    "    profit = price - start_price\n",
    "    print(f'time {time}:sold for {profit}')"
   ]
  },
  {
   "cell_type": "code",
   "execution_count": 51,
   "id": "2e5772ca",
   "metadata": {},
   "outputs": [
    {
     "name": "stdout",
     "output_type": "stream",
     "text": [
      "time 0: bought for 97\n",
      "time 1: bought for 100\n",
      "time 2: bought for 97\n",
      "time 3: bought for 97\n",
      "time 4: bought for 102\n",
      "time 5: bought for 102\n",
      "time 6: bought for 92\n",
      "time 7: bought for 92\n",
      "time 8: bought for 96\n",
      "time 9: bought for 95\n"
     ]
    }
   ],
   "source": [
    "for time in range (max_time):\n",
    "    price = start_price + random.randint(-10, 10)\n",
    "    decision_function = exp_decision(price, time)\n",
    "    decision_function(price, time)\n"
   ]
  },
  {
   "cell_type": "code",
   "execution_count": 52,
   "id": "bd074fd2",
   "metadata": {},
   "outputs": [],
   "source": [
    "def variable_decision(price, time, decision_model):\n",
    "    if time == 0:\n",
    "        return decision_model[0]\n",
    "    else:\n",
    "        discounted_price = price * exponential_discount(time, rate)\n",
    "        if discounted_price < start_price:\n",
    "            return decision_model[0]\n",
    "        else:\n",
    "            return decision_model[1]\n"
   ]
  },
  {
   "cell_type": "code",
   "execution_count": 53,
   "id": "e4bc1a2c",
   "metadata": {},
   "outputs": [],
   "source": [
    "conservative = (buy_exp, sell_exp)\n",
    "agressive = (sell_exp, buy_exp)"
   ]
  },
  {
   "cell_type": "code",
   "execution_count": 54,
   "id": "5ab70c4e",
   "metadata": {},
   "outputs": [
    {
     "name": "stdout",
     "output_type": "stream",
     "text": [
      "time 0: bought for 102\n",
      "time 1: bought for 99\n",
      "time 2: bought for 89\n",
      "time 3: bought for 84\n",
      "time 4: bought for 78\n",
      "time 5: bought for 79\n",
      "time 6: bought for 88\n",
      "time 7: bought for 90\n",
      "time 8: bought for 89\n",
      "time 9: bought for 85\n"
     ]
    }
   ],
   "source": [
    "for time in range (max_time):\n",
    "    price = start_price + random.randint(-10, 10)\n",
    "    decision_function = variable_decision(price, time, conservative)\n",
    "    decision_function(price, time)"
   ]
  },
  {
   "cell_type": "code",
   "execution_count": 55,
   "id": "13ac4a01",
   "metadata": {},
   "outputs": [
    {
     "name": "stdout",
     "output_type": "stream",
     "text": [
      "time 0:sold for 3\n",
      "time 1:sold for -6\n",
      "time 2:sold for 5\n",
      "time 3:sold for 7\n",
      "time 4:sold for -5\n",
      "time 5:sold for -9\n",
      "time 6:sold for 1\n",
      "time 7:sold for -10\n",
      "time 8:sold for -9\n",
      "time 9:sold for -1\n"
     ]
    }
   ],
   "source": [
    "for time in range (max_time):\n",
    "    price = start_price + random.randint(-10, 10)\n",
    "    decision_function = variable_decision(price, time, agressive)\n",
    "    decision_function(price, time)"
   ]
  },
  {
   "cell_type": "code",
   "execution_count": 56,
   "id": "ee662c8d",
   "metadata": {},
   "outputs": [],
   "source": [
    "def buy(position, price, start_price, max_time, rate, time):\n",
    "    start_price = price\n",
    "    position +=1\n",
    "    print(f'time {time}: bought for {price}')\n",
    "    return position"
   ]
  },
  {
   "cell_type": "code",
   "execution_count": 57,
   "id": "d14a6dff",
   "metadata": {},
   "outputs": [],
   "source": [
    "def sell(position, price, start_price, max_time, rate, time):\n",
    "    start_price = price\n",
    "    position -=1\n",
    "    print(f'time {time}: sold for {price}')\n",
    "    return position"
   ]
  },
  {
   "cell_type": "code",
   "execution_count": 58,
   "id": "807fe576",
   "metadata": {},
   "outputs": [],
   "source": [
    "def hold(position, price, start_price, max_time, rate, time):\n",
    "    print(f'time {time}: held at {price}')\n",
    "    return position"
   ]
  },
  {
   "cell_type": "code",
   "execution_count": 59,
   "id": "3e28bad6",
   "metadata": {},
   "outputs": [],
   "source": [
    "conservative = (buy, hold, sell)\n",
    "aggressive = (sell, hold, buy)"
   ]
  },
  {
   "cell_type": "code",
   "execution_count": 60,
   "id": "9aacdcf0",
   "metadata": {},
   "outputs": [],
   "source": [
    "start_price = 100\n",
    "rate = 0.05\n",
    "max_time = 10"
   ]
  },
  {
   "cell_type": "code",
   "execution_count": 61,
   "id": "b58c3a0e",
   "metadata": {},
   "outputs": [],
   "source": [
    "def make_decision(price, time, decision_model, strategy, position, start_price):\n",
    "    if time == 0:\n",
    "        return decision_model[0]\n",
    "    else:\n",
    "        discounted_price = price * exponential_discount(time, rate)\n",
    "        if time >= 2:\n",
    "            moving_average = (price + prices[time-1] + prices[time-2])/3\n",
    "        else:\n",
    "            moving_average = price\n",
    "        if time >= 4:\n",
    "            volatility = sum(abs(price - p) for p in prices[time-4:time])/5\n",
    "        else:\n",
    "            volatility = 0\n",
    "        if strategy == \"conservative\":\n",
    "            if discounted_price < start_price - 2*volatility:\n",
    "                return decision_model[0](position, price, start_price, max_time, rate, time)\n",
    "            elif discounted_price > start_price + moving_average:\n",
    "                return decision_model[1](position, price, start_price, max_time, rate, time)\n",
    "            else:\n",
    "                return decision_model[2](position, price, start_price, max_time, rate, time)\n",
    "        elif strategy == \"aggressive\":\n",
    "            if discounted_price < start_price - volatility:\n",
    "                return decision_model[0](position, price, start_price, max_time, rate, time)\n",
    "            elif discounted_price > start_price + 2*moving_average:\n",
    "                return decision_model[1](position, price, time)\n",
    "            else:\n",
    "                return decision_model[2](position, price, start_price, max_time, rate, time)"
   ]
  },
  {
   "cell_type": "code",
   "execution_count": 62,
   "id": "6688e5ea",
   "metadata": {},
   "outputs": [
    {
     "name": "stdout",
     "output_type": "stream",
     "text": [
      "Simulating using conservative decision model:\n",
      "time 1: bought for 97\n"
     ]
    },
    {
     "ename": "TypeError",
     "evalue": "'int' object is not callable",
     "output_type": "error",
     "traceback": [
      "\u001b[1;31m---------------------------------------------------------------------------\u001b[0m",
      "\u001b[1;31mTypeError\u001b[0m                                 Traceback (most recent call last)",
      "Input \u001b[1;32mIn [62]\u001b[0m, in \u001b[0;36m<cell line: 6>\u001b[1;34m()\u001b[0m\n\u001b[0;32m      7\u001b[0m price \u001b[38;5;241m=\u001b[39m start_price \u001b[38;5;241m+\u001b[39m random\u001b[38;5;241m.\u001b[39mrandint(\u001b[38;5;241m-\u001b[39m\u001b[38;5;241m10\u001b[39m, \u001b[38;5;241m10\u001b[39m)\n\u001b[0;32m      8\u001b[0m decision_function \u001b[38;5;241m=\u001b[39m make_decision(price, time, conservative, \u001b[38;5;124m\"\u001b[39m\u001b[38;5;124mconservative\u001b[39m\u001b[38;5;124m\"\u001b[39m, position, start_price)\n\u001b[1;32m----> 9\u001b[0m position \u001b[38;5;241m=\u001b[39m \u001b[43mdecision_function\u001b[49m\u001b[43m(\u001b[49m\u001b[43mprice\u001b[49m\u001b[43m,\u001b[49m\u001b[43m \u001b[49m\u001b[43mtime\u001b[49m\u001b[43m)\u001b[49m\n\u001b[0;32m     10\u001b[0m prices\u001b[38;5;241m.\u001b[39mappend(price)\n",
      "\u001b[1;31mTypeError\u001b[0m: 'int' object is not callable"
     ]
    }
   ],
   "source": [
    "print(\"Simulating using conservative decision model:\")\n",
    "\n",
    "position = 0\n",
    "prices = [start_price]\n",
    "\n",
    "for time in range(1, max_time):\n",
    "    price = start_price + random.randint(-10, 10)\n",
    "    decision_function = make_decision(price, time, conservative, \"conservative\", position, start_price)\n",
    "    position = decision_function(price, time)\n",
    "    prices.append(price)"
   ]
  },
  {
   "cell_type": "code",
   "execution_count": 63,
   "id": "7bc8fc1d",
   "metadata": {},
   "outputs": [
    {
     "data": {
      "text/plain": [
       "-100"
      ]
     },
     "execution_count": 63,
     "metadata": {},
     "output_type": "execute_result"
    }
   ],
   "source": [
    "profit_conservative = (position * prices[-1]) - start_price\n",
    "profit_conservative"
   ]
  },
  {
   "cell_type": "code",
   "execution_count": null,
   "id": "03840a87",
   "metadata": {},
   "outputs": [],
   "source": []
  },
  {
   "cell_type": "code",
   "execution_count": null,
   "id": "200e205b",
   "metadata": {},
   "outputs": [],
   "source": []
  }
 ],
 "metadata": {
  "kernelspec": {
   "display_name": "Python 3 (ipykernel)",
   "language": "python",
   "name": "python3"
  },
  "language_info": {
   "codemirror_mode": {
    "name": "ipython",
    "version": 3
   },
   "file_extension": ".py",
   "mimetype": "text/x-python",
   "name": "python",
   "nbconvert_exporter": "python",
   "pygments_lexer": "ipython3",
   "version": "3.9.12"
  }
 },
 "nbformat": 4,
 "nbformat_minor": 5
}
