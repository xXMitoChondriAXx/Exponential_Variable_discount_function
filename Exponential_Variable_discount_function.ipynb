{
 "cells": [
  {
   "cell_type": "code",
   "execution_count": 1,
   "id": "1fa9f5f9",
   "metadata": {},
   "outputs": [],
   "source": [
    "import math\n",
    "import random"
   ]
  },
  {
   "cell_type": "code",
   "execution_count": 2,
   "id": "9e7104bc",
   "metadata": {},
   "outputs": [],
   "source": [
    "def exponential_discount(delay, rate):\n",
    "    return math.exp(-rate*delay)"
   ]
  },
  {
   "cell_type": "code",
   "execution_count": 28,
   "id": "26b83998",
   "metadata": {},
   "outputs": [],
   "source": [
    "start_price = 100\n",
    "rate = 0.05\n",
    "max_time = 20"
   ]
  },
  {
   "cell_type": "code",
   "execution_count": 22,
   "id": "74079a69",
   "metadata": {},
   "outputs": [],
   "source": [
    "def exp_decision(price, time):\n",
    "    if time == 0:\n",
    "        return buy\n",
    "    else:\n",
    "        discounted_price = price * exponential_discount(time, rate)\n",
    "        if discounted_price < start_price:\n",
    "            return buy\n",
    "        else:\n",
    "            return sell"
   ]
  },
  {
   "cell_type": "code",
   "execution_count": 30,
   "id": "1246e085",
   "metadata": {},
   "outputs": [],
   "source": [
    "def buy(price, time):\n",
    "    global start_price\n",
    "    start_price = price\n",
    "    print(f'time {time}: bought for {price}')"
   ]
  },
  {
   "cell_type": "code",
   "execution_count": 31,
   "id": "12face37",
   "metadata": {},
   "outputs": [],
   "source": [
    "def sell(price, time):\n",
    "    global start_price\n",
    "    profit = price - start_price\n",
    "    print(f'time {time}:sold for {profit}')"
   ]
  },
  {
   "cell_type": "code",
   "execution_count": 32,
   "id": "7d9e0311",
   "metadata": {},
   "outputs": [
    {
     "name": "stdout",
     "output_type": "stream",
     "text": [
      "time 0: bought for 99\n",
      "time 1:sold for 9\n",
      "time 2: bought for 99\n",
      "time 3: bought for 109\n",
      "time 4: bought for 105\n",
      "time 5: bought for 103\n",
      "time 6: bought for 102\n",
      "time 7: bought for 103\n",
      "time 8: bought for 105\n",
      "time 9: bought for 99\n",
      "time 10: bought for 104\n",
      "time 11: bought for 109\n",
      "time 12: bought for 112\n",
      "time 13: bought for 120\n",
      "time 14: bought for 115\n",
      "time 15: bought for 111\n",
      "time 16: bought for 121\n",
      "time 17: bought for 116\n",
      "time 18: bought for 119\n",
      "time 19: bought for 125\n"
     ]
    }
   ],
   "source": [
    "for time in range (max_time):\n",
    "    price = start_price + random.randint(-10, 10)\n",
    "    decision_function = exp_decision(price, time)\n",
    "    decision_function(price, time)\n"
   ]
  },
  {
   "cell_type": "code",
   "execution_count": 33,
   "id": "ac8f8fa1",
   "metadata": {},
   "outputs": [],
   "source": [
    "def variable_decision(price, time, decision_model):\n",
    "    if time == 0:\n",
    "        return decision_model[0]\n",
    "    else:\n",
    "        discounted_price = price * exponential_discount(time, rate)\n",
    "        if discounted_price < start_price:\n",
    "            return decision_model[0]\n",
    "        else:\n",
    "            return decision_model[1]\n"
   ]
  },
  {
   "cell_type": "code",
   "execution_count": 34,
   "id": "489bb690",
   "metadata": {},
   "outputs": [],
   "source": [
    "conservative = (buy, sell)\n",
    "agressive = (sell, buy)"
   ]
  },
  {
   "cell_type": "code",
   "execution_count": 35,
   "id": "4e9ba16a",
   "metadata": {},
   "outputs": [
    {
     "name": "stdout",
     "output_type": "stream",
     "text": [
      "time 0: bought for 130\n",
      "time 1:sold for 10\n",
      "time 2: bought for 138\n",
      "time 3: bought for 137\n",
      "time 4: bought for 132\n",
      "time 5: bought for 140\n",
      "time 6: bought for 145\n",
      "time 7: bought for 148\n",
      "time 8: bought for 144\n",
      "time 9: bought for 141\n",
      "time 10: bought for 145\n",
      "time 11: bought for 147\n",
      "time 12: bought for 147\n",
      "time 13: bought for 138\n",
      "time 14: bought for 138\n",
      "time 15: bought for 132\n",
      "time 16: bought for 123\n",
      "time 17: bought for 129\n",
      "time 18: bought for 136\n",
      "time 19: bought for 138\n"
     ]
    }
   ],
   "source": [
    "for time in range (max_time):\n",
    "    price = start_price + random.randint(-10, 10)\n",
    "    decision_function = variable_decision(price, time, conservative)\n",
    "    decision_function(price, time)"
   ]
  },
  {
   "cell_type": "code",
   "execution_count": 36,
   "id": "05af1d7c",
   "metadata": {},
   "outputs": [
    {
     "name": "stdout",
     "output_type": "stream",
     "text": [
      "time 0:sold for 3\n",
      "time 1:sold for 7\n",
      "time 2:sold for 4\n",
      "time 3:sold for 5\n",
      "time 4:sold for 5\n",
      "time 5:sold for 5\n",
      "time 6:sold for 5\n",
      "time 7:sold for 7\n",
      "time 8:sold for -3\n",
      "time 9:sold for 10\n",
      "time 10:sold for -7\n",
      "time 11:sold for 10\n",
      "time 12:sold for 0\n",
      "time 13:sold for 8\n",
      "time 14:sold for -4\n",
      "time 15:sold for -7\n",
      "time 16:sold for -3\n",
      "time 17:sold for 5\n",
      "time 18:sold for 1\n",
      "time 19:sold for 2\n"
     ]
    }
   ],
   "source": [
    "for time in range (max_time):\n",
    "    price = start_price + random.randint(-10, 10)\n",
    "    decision_function = variable_decision(price, time, agressive)\n",
    "    decision_function(price, time)"
   ]
  },
  {
   "cell_type": "code",
   "execution_count": null,
   "id": "db36841c",
   "metadata": {},
   "outputs": [],
   "source": []
  }
 ],
 "metadata": {
  "kernelspec": {
   "display_name": "Python 3 (ipykernel)",
   "language": "python",
   "name": "python3"
  },
  "language_info": {
   "codemirror_mode": {
    "name": "ipython",
    "version": 3
   },
   "file_extension": ".py",
   "mimetype": "text/x-python",
   "name": "python",
   "nbconvert_exporter": "python",
   "pygments_lexer": "ipython3",
   "version": "3.9.12"
  }
 },
 "nbformat": 4,
 "nbformat_minor": 5
}
