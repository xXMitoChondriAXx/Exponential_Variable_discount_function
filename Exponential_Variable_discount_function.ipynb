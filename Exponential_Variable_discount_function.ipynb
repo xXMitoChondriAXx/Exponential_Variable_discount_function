{
 "cells": [
  {
   "cell_type": "code",
   "execution_count": 1,
   "id": "c26c7e4e",
   "metadata": {},
   "outputs": [],
   "source": [
    "import math\n",
    "import random"
   ]
  },
  {
   "cell_type": "code",
   "execution_count": 2,
   "id": "3f7f199d",
   "metadata": {},
   "outputs": [],
   "source": [
    "def exponential_discount(delay, rate):\n",
    "    return math.exp(-rate*delay)"
   ]
  },
  {
   "cell_type": "code",
   "execution_count": 3,
   "id": "53b8dd84",
   "metadata": {},
   "outputs": [],
   "source": [
    "start_price = 100\n",
    "rate = 0.05\n",
    "max_time = 10"
   ]
  },
  {
   "cell_type": "code",
   "execution_count": 4,
   "id": "b931715e",
   "metadata": {},
   "outputs": [],
   "source": [
    "def exp_decision(price, time):\n",
    "    if time == 0:\n",
    "        return buy_exp\n",
    "    else:\n",
    "        discounted_price = price * exponential_discount(time, rate)\n",
    "        if discounted_price < start_price:\n",
    "            return buy_exp\n",
    "        else:\n",
    "            return sell_exp"
   ]
  },
  {
   "cell_type": "code",
   "execution_count": 5,
   "id": "9ebc2d65",
   "metadata": {},
   "outputs": [],
   "source": [
    "def buy_exp(price, time):\n",
    "    global start_price\n",
    "    start_price = price\n",
    "    print(f'time {time}: bought for {price}')"
   ]
  },
  {
   "cell_type": "code",
   "execution_count": 6,
   "id": "741a6ec4",
   "metadata": {},
   "outputs": [],
   "source": [
    "def sell_exp(price, time):\n",
    "    global start_price\n",
    "    profit = price - start_price\n",
    "    print(f'time {time}:sold for {profit}')"
   ]
  },
  {
   "cell_type": "code",
   "execution_count": 7,
   "id": "2e5772ca",
   "metadata": {},
   "outputs": [
    {
     "name": "stdout",
     "output_type": "stream",
     "text": [
      "time 0: bought for 110\n",
      "time 1: bought for 113\n",
      "time 2: bought for 106\n",
      "time 3: bought for 112\n",
      "time 4: bought for 106\n",
      "time 5: bought for 114\n",
      "time 6: bought for 122\n",
      "time 7: bought for 127\n",
      "time 8: bought for 122\n",
      "time 9: bought for 124\n"
     ]
    }
   ],
   "source": [
    "for time in range (max_time):\n",
    "    price = start_price + random.randint(-10, 10)\n",
    "    decision_function = exp_decision(price, time)\n",
    "    decision_function(price, time)\n"
   ]
  },
  {
   "cell_type": "code",
   "execution_count": 8,
   "id": "bd074fd2",
   "metadata": {},
   "outputs": [],
   "source": [
    "def variable_decision(price, time, decision_model):\n",
    "    if time == 0:\n",
    "        return decision_model[0]\n",
    "    else:\n",
    "        discounted_price = price * exponential_discount(time, rate)\n",
    "        if discounted_price < start_price:\n",
    "            return decision_model[0]\n",
    "        else:\n",
    "            return decision_model[1]\n"
   ]
  },
  {
   "cell_type": "code",
   "execution_count": 9,
   "id": "e4bc1a2c",
   "metadata": {},
   "outputs": [],
   "source": [
    "conservative_exp = (buy_exp, sell_exp)\n",
    "aggressive_exp = (sell_exp, buy_exp)"
   ]
  },
  {
   "cell_type": "code",
   "execution_count": 10,
   "id": "5ab70c4e",
   "metadata": {},
   "outputs": [
    {
     "name": "stdout",
     "output_type": "stream",
     "text": [
      "time 0: bought for 127\n",
      "time 1: bought for 128\n",
      "time 2: bought for 132\n",
      "time 3: bought for 123\n",
      "time 4: bought for 133\n",
      "time 5: bought for 140\n",
      "time 6: bought for 133\n",
      "time 7: bought for 143\n",
      "time 8: bought for 142\n",
      "time 9: bought for 149\n"
     ]
    }
   ],
   "source": [
    "for time in range (max_time):\n",
    "    price = start_price + random.randint(-10, 10)\n",
    "    decision_function = variable_decision(price, time, conservative_exp)\n",
    "    decision_function(price, time)"
   ]
  },
  {
   "cell_type": "code",
   "execution_count": 11,
   "id": "13ac4a01",
   "metadata": {},
   "outputs": [
    {
     "name": "stdout",
     "output_type": "stream",
     "text": [
      "time 0:sold for 9\n",
      "time 1:sold for 3\n",
      "time 2:sold for -5\n",
      "time 3:sold for -1\n",
      "time 4:sold for -1\n",
      "time 5:sold for -2\n",
      "time 6:sold for -9\n",
      "time 7:sold for -5\n",
      "time 8:sold for -3\n",
      "time 9:sold for 7\n"
     ]
    }
   ],
   "source": [
    "for time in range (max_time):\n",
    "    price = start_price + random.randint(-10, 10)\n",
    "    decision_function = variable_decision(price, time, aggressive_exp)\n",
    "    decision_function(price, time)"
   ]
  },
  {
   "cell_type": "code",
   "execution_count": 12,
   "id": "2e5f86d2",
   "metadata": {},
   "outputs": [],
   "source": [
    "def buy(position, price, start_price, max_time, discount_factor, time):\n",
    "    start_price = price\n",
    "    position +=1\n",
    "    print(f'time {time}: bought for {price}')\n",
    "    return position"
   ]
  },
  {
   "cell_type": "code",
   "execution_count": 13,
   "id": "0175f325",
   "metadata": {},
   "outputs": [],
   "source": [
    "def sell(position, price, start_price, max_time, discount_factor, time):\n",
    "    start_price = price\n",
    "    position -=1\n",
    "    print(f'time {time}: sold for {price}')\n",
    "    return position"
   ]
  },
  {
   "cell_type": "code",
   "execution_count": 14,
   "id": "2368ac5a",
   "metadata": {},
   "outputs": [],
   "source": [
    "def hold(position, price, start_price, max_time, discount_factor, time):\n",
    "    print(f'time {time}: held at {price}')\n",
    "    return position"
   ]
  },
  {
   "cell_type": "code",
   "execution_count": 15,
   "id": "fe6d3343",
   "metadata": {},
   "outputs": [],
   "source": [
    "strategies = {'conservative':('sell', 'hold', 'buy'), 'aggressive': ('buy', 'hold', 'sell')}"
   ]
  },
  {
   "cell_type": "code",
   "execution_count": 16,
   "id": "3e28dd5f",
   "metadata": {},
   "outputs": [],
   "source": [
    "start_price = 100\n",
    "max_time = 10"
   ]
  },
  {
   "cell_type": "code",
   "execution_count": 17,
   "id": "764a1540",
   "metadata": {},
   "outputs": [],
   "source": [
    "def get_discount(time):\n",
    "    discount_rate = 0.95 ** time\n",
    "    return discount_rate"
   ]
  },
  {
   "cell_type": "code",
   "execution_count": 38,
   "id": "b58c3a0e",
   "metadata": {},
   "outputs": [],
   "source": [
    "def make_decision(price, time, strategy, strategy_name, position, start_price, get_discount):\n",
    "    threshold = start_price * get_discount(time)\n",
    "    \n",
    "    if price > threshold:\n",
    "        return buy\n",
    "    elif price < threshold / 2:\n",
    "        return sell\n",
    "    else:\n",
    "        return hold"
   ]
  },
  {
   "cell_type": "code",
   "execution_count": 39,
   "id": "6688e5ea",
   "metadata": {},
   "outputs": [],
   "source": [
    "def simulate_strategy(max_time, start_price, strategy, strategy_name, get_discount):\n",
    "    position = 0\n",
    "    prices = [start_price] * max_time\n",
    "    for time in range(1, max_time):\n",
    "        price = start_price + random.randint(-10, 10)\n",
    "        decision_function = make_decision(price, time, strategies, strategy_name, position, start_price, get_discount)\n",
    "        if decision_function == 1:\n",
    "            position = 1\n",
    "            print(f'time {time}: bought for {price}')\n",
    "        elif decision_function == -1:\n",
    "            position = -1\n",
    "            print(f'time {time}: sold for {price}')\n",
    "        else:\n",
    "            print(f'time {time}: held at {price}')\n",
    "        prices[time] = price\n",
    "    total_profit = (prices[-1] - prices[0]) * position\n",
    "    return total_profit\n",
    "        "
   ]
  },
  {
   "cell_type": "code",
   "execution_count": 40,
   "id": "03840a87",
   "metadata": {},
   "outputs": [
    {
     "name": "stdout",
     "output_type": "stream",
     "text": [
      "time 1: held at 99\n",
      "time 2: held at 109\n",
      "time 3: held at 108\n",
      "time 4: held at 107\n",
      "time 5: held at 99\n",
      "time 6: held at 96\n",
      "time 7: held at 104\n",
      "time 8: held at 96\n",
      "time 9: held at 102\n"
     ]
    }
   ],
   "source": [
    "conservative_profit = simulate_strategy(max_time, start_price, strategies, 'conservative', get_discount)"
   ]
  },
  {
   "cell_type": "code",
   "execution_count": 44,
   "id": "0b7da73d",
   "metadata": {},
   "outputs": [
    {
     "name": "stdout",
     "output_type": "stream",
     "text": [
      "time 1: held at 94\n",
      "time 2: held at 104\n",
      "time 3: held at 99\n",
      "time 4: held at 108\n",
      "time 5: held at 95\n",
      "time 6: held at 106\n",
      "time 7: held at 99\n",
      "time 8: held at 110\n",
      "time 9: held at 98\n"
     ]
    }
   ],
   "source": [
    "aggressive_profit = simulate_strategy(max_time, start_price, strategies, 'aggressive', get_discount)"
   ]
  },
  {
   "cell_type": "code",
   "execution_count": null,
   "id": "09d73fe3",
   "metadata": {},
   "outputs": [],
   "source": []
  },
  {
   "cell_type": "code",
   "execution_count": null,
   "id": "ffd25498",
   "metadata": {},
   "outputs": [],
   "source": []
  }
 ],
 "metadata": {
  "kernelspec": {
   "display_name": "Python 3 (ipykernel)",
   "language": "python",
   "name": "python3"
  },
  "language_info": {
   "codemirror_mode": {
    "name": "ipython",
    "version": 3
   },
   "file_extension": ".py",
   "mimetype": "text/x-python",
   "name": "python",
   "nbconvert_exporter": "python",
   "pygments_lexer": "ipython3",
   "version": "3.9.12"
  }
 },
 "nbformat": 4,
 "nbformat_minor": 5
}
